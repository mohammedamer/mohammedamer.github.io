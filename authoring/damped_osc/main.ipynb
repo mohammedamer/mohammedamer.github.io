{
 "cells": [
  {
   "cell_type": "markdown",
   "id": "166299aa-c3c5-43eb-8775-d22e30a1cb8e",
   "metadata": {},
   "source": [
    "---\n",
    "layout: post\n",
    "title: Damped Oscillator\n",
    "---"
   ]
  },
  {
   "cell_type": "code",
   "execution_count": 2,
   "id": "633aa403-158a-45aa-9d7c-65e9a78d7ffd",
   "metadata": {},
   "outputs": [],
   "source": [
    "from pathlib import Path\n",
    "import os\n",
    "\n",
    "from IPython.display import HTML, Image\n",
    "import matplotlib.pyplot as plt\n",
    "import numpy as np\n",
    "from celluloid import Camera\n",
    "\n",
    "ROOT = Path(\"./assets/img/\")\n",
    "\n",
    "if not os.path.exists(ROOT):\n",
    "    os.makedirs(ROOT)"
   ]
  },
  {
   "cell_type": "markdown",
   "id": "aa2ccd65-6fc5-403c-a814-09a9bc5d319e",
   "metadata": {},
   "source": [
    "The differential equation for the damped oscillator:\n",
    "\n",
    "$$\n",
    "\\frac{d^2x}{dt^2} + \\frac{b}{m} \\frac{dx}{dt} + \\frac{k}{m}x = 0\n",
    "$$"
   ]
  },
  {
   "cell_type": "markdown",
   "id": "354b2971-b5a1-4823-aca0-5e1291d3771b",
   "metadata": {},
   "source": [
    "Let's take Laplace transform:"
   ]
  },
  {
   "cell_type": "markdown",
   "id": "ac3037fd-23b2-4d0d-b7ce-42f6737a9e5a",
   "metadata": {},
   "source": [
    "\n",
    "$$\n",
    "(s^2 + \\frac{b}{m} s + \\frac{k}{m}) X(s) - (s+\\frac{b}{m}) x(0) - x'(0) = 0\n",
    "$$"
   ]
  },
  {
   "cell_type": "markdown",
   "id": "f6dfbd72-35cb-4aca-8255-5528c977250d",
   "metadata": {},
   "source": [
    "$$\n",
    "X(s) = \\frac{(s+\\frac{b}{m}) x(0) + x'(0)}{s^2 + \\frac{b}{m} s + \\frac{k}{m}}\n",
    "$$"
   ]
  },
  {
   "cell_type": "markdown",
   "id": "17e8463d-7cb7-4f55-b78f-5224c0d12932",
   "metadata": {},
   "source": [
    "This resolves our solution in the complex domain. We need to take the inverse transform to get the solution in the time domain. This will depend on the zeros of the denumerator. The discriminant of the polynomial in the denumerator is:\n",
    "\n",
    "$$\n",
    "\\frac{b^2}{m^2} - 4 \\frac{k}{m}\n",
    "$$"
   ]
  },
  {
   "cell_type": "markdown",
   "id": "e713da4f-f4d0-48d9-b693-392e1ea82831",
   "metadata": {},
   "source": [
    "# Case 1: Underdamped\n",
    "\n",
    "$$\n",
    "\\begin{align*}\n",
    "& \\frac{b^2}{m^2} -4 \\frac{k}{m} < 0\\\\\\\\\n",
    "& b^2 < 4 m k\n",
    "\\end{align*}\n",
    "$$"
   ]
  },
  {
   "cell_type": "markdown",
   "id": "64fcbf1e-829b-4b03-b263-b024d2c57ffe",
   "metadata": {},
   "source": [
    "Let's define:\n",
    "\n",
    "$$\n",
    "\\begin{align*}\n",
    "\\omega_n = \\sqrt{\\frac{k}{m}}\\\\\\\\\n",
    "\\zeta = \\frac{b}{2 \\sqrt{m k}}\n",
    "\\end{align*}\n",
    "$$"
   ]
  },
  {
   "cell_type": "markdown",
   "id": "f394c1b6-0d28-45de-9e95-3fd23dd8e7f4",
   "metadata": {},
   "source": [
    "Complete the square:\n",
    "\n",
    "$$\n",
    "s^2+\\frac{b}{m} s + \\frac{k}{m} = (s+\\frac{b}{2m})^2 + \\frac{k}{m} - \\frac{b^2}{4 m^2}\n",
    "$$"
   ]
  },
  {
   "cell_type": "markdown",
   "id": "8c0399a7-295d-40cb-9546-ee884eceaac0",
   "metadata": {},
   "source": [
    "$$\n",
    "\\begin{align*}\n",
    "(s+\\frac{b}{2m})^2 + \\frac{k}{m} - \\frac{b^2}{4 m^2} \\\\\n",
    "= (s+\\zeta \\omega_n)^2 + \\omega_n^2 (1 - \\zeta^2) \\\\\n",
    "= (s+\\zeta \\omega_n)^2 + \\omega_d^2\n",
    "\\end{align*}\n",
    "$$\n",
    "\n",
    "where $\\omega_d = \\omega_n \\sqrt{1-\\zeta^2}$"
   ]
  },
  {
   "cell_type": "markdown",
   "id": "f34d0b3e-e8ee-4c57-bcae-e284af78c942",
   "metadata": {},
   "source": [
    "Write the numerator in terms of $\\omega_n$ and $\\zeta$:\n",
    "\n",
    "$$\n",
    "x(0) (s + \\frac{b}{m}) + x'(0) = x(0) (s + 2 \\zeta \\omega_n) + x'(0)\n",
    "$$"
   ]
  },
  {
   "cell_type": "markdown",
   "id": "c24ac92a-c208-4c4b-8c07-34e02d296372",
   "metadata": {},
   "source": [
    "Hence,\n",
    "\n",
    "$$\n",
    "X(s) = \\frac{x(0) (s + 2 \\zeta \\omega_n) + x'(0)}{(s+\\zeta \\omega_n)^2 + \\omega_d^2}\n",
    "$$"
   ]
  },
  {
   "cell_type": "markdown",
   "id": "ca72887f-bf79-4fc5-8b74-fbb3b7781743",
   "metadata": {},
   "source": [
    "$$\n",
    "X(s) = \\frac{x(0) (s + \\zeta \\omega_n)}{(s + \\zeta \\omega_n)^2 + \\omega_d^2} + \\frac{x(0) \\zeta \\omega_n + x'(0)}{\\omega_d} \\frac{\\omega_d}{(s + \\zeta \\omega_n)^2 + \\omega_d^2}\n",
    "$$"
   ]
  },
  {
   "cell_type": "markdown",
   "id": "39618b36-1ee6-4bfc-9807-2765d93f92db",
   "metadata": {},
   "source": [
    "Take the inverse Laplace:\n",
    "\n",
    "$$\n",
    "x(t) = e^{-\\zeta \\omega_n t} [ x(0) \\cos(\\omega_d t) + \\frac{x(0) \\zeta \\omega_n + x'(0)}{\\omega_d} \\sin(\\omega_d t) ]\n",
    "$$"
   ]
  },
  {
   "cell_type": "markdown",
   "id": "8dc62ea0-680e-4633-a909-b20eadea8bb9",
   "metadata": {},
   "source": [
    "Using:\n",
    "\n",
    "$$\n",
    "\\alpha \\cos(\\theta) + \\beta \\sin(\\theta) = \\gamma \\cos(\\theta - \\phi)\n",
    "$$\n",
    "\n",
    "where $\\gamma = \\sqrt{\\alpha^2 + \\beta^2}$ and $\\phi = atan2(\\beta, \\alpha)$."
   ]
  },
  {
   "cell_type": "markdown",
   "id": "1a96ebec-756c-495f-8f3c-8f9c8a16773f",
   "metadata": {},
   "source": [
    "Hence we can simplify to:\n",
    "\n",
    "$$\n",
    "x(t) = A e^{-\\frac{b}{2m} t} \\cos(\\omega_d t - \\phi)\n",
    "$$\n",
    "\n",
    "where $A = \\sqrt{x(0)^2 + (\\frac{x(0) \\zeta \\omega_n + x'(0)}{\\omega_d})^2}$ and $\\phi = atan2(\\frac{x(0) \\zeta \\omega_n + x'(0)}{\\omega_d}, x(0))$."
   ]
  },
  {
   "cell_type": "code",
   "execution_count": 19,
   "id": "4e523165-f18c-4474-b78d-6eafd40e0ce5",
   "metadata": {},
   "outputs": [
    {
     "data": {
      "text/html": [
       "<img src=\"assets/img/underdamped.gif\"/>"
      ],
      "text/plain": [
       "<IPython.core.display.Image object>"
      ]
     },
     "execution_count": 19,
     "metadata": {},
     "output_type": "execute_result"
    }
   ],
   "source": [
    "def underdamped_fn(t):\n",
    "    omega = 1 # rad/sec\n",
    "    A = 0.2 # m\n",
    "    b = 0.3\n",
    "    m = 1.\n",
    "\n",
    "    T = 3*1/omega*2*np.pi\n",
    "\n",
    "    t = np.linspace(0, T, 100)\n",
    "    return A*np.exp(-b/(2*m)*t)*np.cos(omega*t)\n",
    "\n",
    "def underdamped():\n",
    "\n",
    "    T = 20.\n",
    "\n",
    "    t = np.linspace(0, T, 100)\n",
    "    x = underdamped_fn(t)\n",
    "\n",
    "    fig, ax = plt.subplots(1, 1, figsize=(6,5))\n",
    "\n",
    "    ax.set_title(\"Underdamped\")\n",
    "    \n",
    "    ax.set_xlabel(\"t\")\n",
    "    ax.set_ylabel(\"x\")\n",
    "\n",
    "    ax.set_xlim((0, T))\n",
    "    ax.set_ylim((-0.2,0.2))\n",
    "\n",
    "    camera = Camera(fig)\n",
    "\n",
    "    for idx, ti in enumerate(t):\n",
    "\n",
    "        ax.plot(t[:idx+1], x[:idx+1], color=\"royalblue\", label=\"x\")\n",
    "        ax.scatter(ti, x[idx], color=\"royalblue\")\n",
    "        ax.hlines(0, 0, T, color=\"black\", linestyle=\"dashed\")\n",
    "\n",
    "        camera.snap()\n",
    "\n",
    "    anim = camera.animate()\n",
    "    plt.close()\n",
    "\n",
    "    gif_path = ROOT / \"underdamped.gif\"  \n",
    "    anim.save(gif_path, writer=\"pillow\", fps=30)\n",
    "    return Image(url=gif_path)\n",
    "\n",
    "underdamped()"
   ]
  },
  {
   "cell_type": "markdown",
   "id": "193bad45-c84d-4c02-874a-e45a4a7114dd",
   "metadata": {},
   "source": [
    "# Case 2: Critically Damped\n",
    "\n",
    "$$\n",
    "\\begin{align*}\n",
    "& \\frac{b^2}{m^2} -4 \\frac{k}{m} = 0\\\\\\\\\n",
    "& b^2 = 4 m k\n",
    "\\end{align*}\n",
    "$$"
   ]
  },
  {
   "cell_type": "markdown",
   "id": "941c5da6-d27c-425c-bf5c-96b2c1d5ca8e",
   "metadata": {},
   "source": [
    "Hence,\n",
    "\n",
    "$$\n",
    "\\begin{align*}\n",
    "s^2+\\frac{b}{m} s + \\frac{k}{m} = (s + \\omega_n)^2\n",
    "\\end{align*}\n",
    "$$"
   ]
  },
  {
   "cell_type": "markdown",
   "id": "4ffdb47a-9cf4-4d72-a551-89b5824e6dcc",
   "metadata": {},
   "source": [
    "$$\n",
    "\\begin{align*}\n",
    "X(s) = \\frac{(s+ 2\\omega_n) x(0) + x'(0)}{(s+\\omega_n)^2}\\\\\n",
    "X(s) = \\frac{x(0)}{s+\\omega_n} + \\frac{x(0) \\omega_n + x'(0)}{(s+\\omega_n)^2}\n",
    "\\end{align*}\n",
    "$$"
   ]
  },
  {
   "cell_type": "markdown",
   "id": "ad683bd4-59f6-41fc-87e3-b83a524359a9",
   "metadata": {},
   "source": [
    "Applying the inverse transform:\n",
    "\n",
    "$$\n",
    "x(t) = [x(0) +( x(0) \\omega_n + x'(0))t] e^{-\\omega_n t}\n",
    "$$"
   ]
  },
  {
   "cell_type": "code",
   "execution_count": 22,
   "id": "49e7e211-c723-46d6-83ff-07dd4dfe34c3",
   "metadata": {},
   "outputs": [
    {
     "data": {
      "text/html": [
       "<img src=\"assets/img/critical_damped.gif\"/>"
      ],
      "text/plain": [
       "<IPython.core.display.Image object>"
      ]
     },
     "execution_count": 22,
     "metadata": {},
     "output_type": "execute_result"
    }
   ],
   "source": [
    "def critical_damped_fn(t):\n",
    "    omega = 1 # rad/sec\n",
    "    A = 0.2\n",
    "\n",
    "    return A*(1+omega*t)*np.exp(-omega*t)\n",
    "\n",
    "def critical_damped():\n",
    "\n",
    "    T = 20\n",
    "    t = np.linspace(0, T, 100)\n",
    "    x = critical_damped_fn(t)\n",
    "\n",
    "    fig, ax = plt.subplots(1, 1, figsize=(6,5))\n",
    "\n",
    "    ax.set_title(\"Critically Damped\")\n",
    "    \n",
    "    ax.set_xlabel(\"t\")\n",
    "    ax.set_ylabel(\"x\")\n",
    "\n",
    "    ax.set_xlim((0, T))\n",
    "    ax.set_ylim((-0.01,0.2))\n",
    "\n",
    "    camera = Camera(fig)\n",
    "\n",
    "    for idx, ti in enumerate(t):\n",
    "\n",
    "        ax.plot(t[:idx+1], x[:idx+1], color=\"royalblue\", label=\"x\")\n",
    "        ax.scatter(ti, x[idx], color=\"royalblue\")\n",
    "        ax.hlines(0, 0, T, color=\"black\", linestyle=\"dashed\")\n",
    "\n",
    "        camera.snap()\n",
    "\n",
    "    anim = camera.animate()\n",
    "    plt.close()\n",
    "\n",
    "    gif_path = ROOT / \"critical_damped.gif\"  \n",
    "    anim.save(gif_path, writer=\"pillow\", fps=30)\n",
    "    return Image(url=gif_path)\n",
    "\n",
    "critical_damped()"
   ]
  },
  {
   "cell_type": "markdown",
   "id": "7d4058c3-f891-44a1-8310-91c3ef3722f5",
   "metadata": {},
   "source": [
    "# Case 3: Overdamped\n",
    "\n",
    "$$\n",
    "\\begin{align*}\n",
    "& \\frac{b^2}{m^2} -4 \\frac{k}{m} > 0\n",
    "\\end{align*}\n",
    "$$"
   ]
  },
  {
   "cell_type": "markdown",
   "id": "0ab83b9f-4ebd-4a04-858f-524eb5322a63",
   "metadata": {},
   "source": [
    "The roots of the polynomial in the denumerator is:\n",
    "\n",
    "$$\n",
    "r_{1,2} = \\frac{-\\frac{b}{m} \\pm \\sqrt{\\frac{b^2}{m^2} - 4\\frac{k}{m}}}{2}\n",
    "$$"
   ]
  },
  {
   "cell_type": "markdown",
   "id": "9ce4d09b-51e3-4919-b817-35303fb5b727",
   "metadata": {},
   "source": [
    "Hence,\n",
    "\n",
    "$$\n",
    "X(s) = \\frac{(s+\\frac{b}{m}) x(0) + x'(0)}{(s - r_1) (s - r_2)}\n",
    "$$"
   ]
  },
  {
   "cell_type": "markdown",
   "id": "270ee15f-aad5-400e-b972-3e9a55964b2d",
   "metadata": {},
   "source": [
    "Using partial fractions,\n",
    "\n",
    "$$\n",
    "X(s) = \\frac{A}{s-r_1} + \\frac{B}{s-r_2}\n",
    "$$"
   ]
  },
  {
   "cell_type": "markdown",
   "id": "a235f280-21a3-4f9c-98cc-c22491bc3d2d",
   "metadata": {},
   "source": [
    "Taking inverse transform,\n",
    "\n",
    "$$\n",
    "x(t) = A e^{r_1 t} + B e^{r_2 t}\n",
    "$$"
   ]
  },
  {
   "cell_type": "code",
   "execution_count": 24,
   "id": "33560e2b-99c7-4c53-9308-dfc33cdda8fd",
   "metadata": {},
   "outputs": [
    {
     "data": {
      "text/html": [
       "<img src=\"assets/img/overdamped.gif\"/>"
      ],
      "text/plain": [
       "<IPython.core.display.Image object>"
      ]
     },
     "execution_count": 24,
     "metadata": {},
     "output_type": "execute_result"
    }
   ],
   "source": [
    "def overdamped_fn(t):\n",
    "    b = 1\n",
    "    m = 1\n",
    "    k = 0.1\n",
    "\n",
    "    A = 0.1\n",
    "    B = 0.1\n",
    "    \n",
    "    r1 = (-b/m + np.sqrt(b**2/m**2 - 4*k/m))/2\n",
    "    r2 = (-b/m - np.sqrt(b**2/m**2 - 4*k/m))/2\n",
    "    \n",
    "    return A*np.exp(r1*t) + B*np.exp(r2*t)\n",
    "\n",
    "def overdamped():\n",
    "    T = 20\n",
    "    \n",
    "    t = np.linspace(0, T, 100)\n",
    "    x = overdamped_fn(t)\n",
    "\n",
    "    fig, ax = plt.subplots(1, 1, figsize=(6,5))\n",
    "\n",
    "    ax.set_title(\"Overdamped\")\n",
    "    \n",
    "    ax.set_xlabel(\"t\")\n",
    "    ax.set_ylabel(\"x\")\n",
    "\n",
    "    camera = Camera(fig)\n",
    "\n",
    "    for idx, ti in enumerate(t):\n",
    "\n",
    "        ax.plot(t[:idx+1], x[:idx+1], color=\"royalblue\", label=\"x\")\n",
    "        ax.scatter(ti, x[idx], color=\"royalblue\")\n",
    "        ax.hlines(0, 0, T, color=\"black\", linestyle=\"dashed\")\n",
    "\n",
    "        camera.snap()\n",
    "\n",
    "    anim = camera.animate()\n",
    "    plt.close()\n",
    "\n",
    "    gif_path = ROOT / \"overdamped.gif\"  \n",
    "    anim.save(gif_path, writer=\"pillow\", fps=30)\n",
    "    return Image(url=gif_path)\n",
    "\n",
    "overdamped()"
   ]
  },
  {
   "cell_type": "code",
   "execution_count": 27,
   "id": "8e3838b2-cea9-47bb-91ed-12f68512425d",
   "metadata": {},
   "outputs": [
    {
     "data": {
      "text/html": [
       "<img src=\"assets/img/damped_osc.gif\"/>"
      ],
      "text/plain": [
       "<IPython.core.display.Image object>"
      ]
     },
     "execution_count": 27,
     "metadata": {},
     "output_type": "execute_result"
    }
   ],
   "source": [
    "def damped_osc():\n",
    "\n",
    "    T = 20\n",
    "    \n",
    "    t = np.linspace(0, T, 100)\n",
    "\n",
    "    u_damped = underdamped_fn(t)\n",
    "    c_damped = critical_damped_fn(t)\n",
    "    o_damped = overdamped_fn(t)\n",
    "\n",
    "    fig, ax = plt.subplots(1, 1, figsize=(6,5))\n",
    "\n",
    "    ax.set_title(\"Damped Oscillator\")\n",
    "    \n",
    "    ax.set_xlabel(\"t\")\n",
    "    ax.set_ylabel(\"x\")\n",
    "\n",
    "    camera = Camera(fig)\n",
    "\n",
    "    colors = {\n",
    "        \"under_damped\": \"royalblue\",\n",
    "        \"critically_damped\": \"orangered\",\n",
    "        \"over_damped\": \"forestgreen\",\n",
    "    }\n",
    "    \n",
    "    for idx, ti in enumerate(t):\n",
    "        lines = []\n",
    "        for label, data in zip(['under_damped', 'critically_damped', 'over_damped'],\n",
    "                              [u_damped, c_damped, o_damped]):\n",
    "\n",
    "            c = colors[label]\n",
    "            l, = ax.plot(t[:idx+1], data[:idx+1], color=c, label=label)\n",
    "            ax.scatter(ti, data[idx], color=c)\n",
    "            ax.hlines(0, 0, T, color=\"black\", linestyle=\"dashed\")\n",
    "\n",
    "            lines.append(l)\n",
    "        \n",
    "        ax.legend(handles=lines)\n",
    "        \n",
    "        camera.snap()\n",
    "\n",
    "    anim = camera.animate()\n",
    "    plt.close()\n",
    "\n",
    "    gif_path = ROOT / \"damped_osc.gif\"  \n",
    "    anim.save(gif_path, writer=\"pillow\", fps=30)\n",
    "    return Image(url=gif_path)\n",
    "\n",
    "damped_osc()"
   ]
  }
 ],
 "metadata": {
  "kernelspec": {
   "display_name": "Python 3 (ipykernel)",
   "language": "python",
   "name": "python3"
  },
  "language_info": {
   "codemirror_mode": {
    "name": "ipython",
    "version": 3
   },
   "file_extension": ".py",
   "mimetype": "text/x-python",
   "name": "python",
   "nbconvert_exporter": "python",
   "pygments_lexer": "ipython3",
   "version": "3.12.3"
  }
 },
 "nbformat": 4,
 "nbformat_minor": 5
}
