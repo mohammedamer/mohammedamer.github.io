{
 "cells": [
  {
   "cell_type": "markdown",
   "id": "078fbaff-620e-4874-b85c-4ca35cba1f5c",
   "metadata": {},
   "source": [
    "---\n",
    "layout: post\n",
    "title: Catalogue of LR Schedulers\n",
    "---"
   ]
  },
  {
   "cell_type": "code",
   "execution_count": 1,
   "id": "b7ec32b0-b13f-4b59-8d7e-2b4b8bb5bc20",
   "metadata": {},
   "outputs": [],
   "source": [
    "from pathlib import Path\n",
    "import os\n",
    "from collections import defaultdict\n",
    "\n",
    "from IPython.display import HTML, Image\n",
    "import numpy as np\n",
    "import matplotlib.pyplot as plt\n",
    "from celluloid import Camera\n",
    "import torch.optim as optim\n",
    "import torch\n",
    "\n",
    "ROOT = Path(\"./assets/img/\")\n",
    "\n",
    "if not os.path.exists(ROOT):\n",
    "    os.makedirs(ROOT)"
   ]
  },
  {
   "cell_type": "code",
   "execution_count": 2,
   "id": "44d22cbb-3899-4d19-b123-83ed18b7051a",
   "metadata": {},
   "outputs": [],
   "source": [
    "def get_dummy_optimizer(lr):\n",
    "    return optim.SGD([torch.tensor(0)], lr=lr)"
   ]
  },
  {
   "cell_type": "markdown",
   "id": "7b5f35a1-d4a6-4161-86e5-f80539b5cb11",
   "metadata": {},
   "source": [
    "# StepLR"
   ]
  },
  {
   "cell_type": "code",
   "execution_count": 51,
   "id": "d8800d30-95cf-4f44-8c3e-658dad8a8f45",
   "metadata": {},
   "outputs": [
    {
     "data": {
      "text/html": [
       "<img src=\"assets/img/steplr.gif\"/>"
      ],
      "text/plain": [
       "<IPython.core.display.Image object>"
      ]
     },
     "execution_count": 51,
     "metadata": {},
     "output_type": "execute_result"
    }
   ],
   "source": [
    "def step_lr():\n",
    "\n",
    "    optimizer = get_dummy_optimizer(lr=1.)\n",
    "    scheduler = optim.lr_scheduler.StepLR(optimizer, step_size=50, gamma=0.1)\n",
    "\n",
    "    epochs = np.arange(0, 200)\n",
    "    \n",
    "    lr_arr = []\n",
    "    for epoch in epochs:\n",
    "        lr = scheduler.get_last_lr()\n",
    "        lr_arr.append(lr)\n",
    "        \n",
    "        optimizer.step()\n",
    "        scheduler.step()\n",
    "\n",
    "    lr_arr = np.array(lr_arr)\n",
    "\n",
    "    fig, (ax, ax_log) = plt.subplots(1, 2, figsize=(12,5))\n",
    "\n",
    "    fig.suptitle(\"StepLR\")\n",
    "\n",
    "    ax.set_xlabel(\"epoch\")\n",
    "    ax.set_ylabel(\"lr\")\n",
    "\n",
    "    ax_log.set_xlabel(\"epoch\")\n",
    "    ax_log.set_ylabel(\"lr (log-scale)\")\n",
    "\n",
    "    ax_log.set_yscale(\"log\")\n",
    "\n",
    "    camera = Camera(fig)\n",
    "    for epoch in epochs:\n",
    "        ax.scatter(epoch, lr_arr[epoch], color=\"royalblue\")\n",
    "        ax.plot(epochs[:epoch+1], lr_arr[:epoch+1], color=\"royalblue\")\n",
    "\n",
    "        ax_log.scatter(epoch, lr_arr[epoch], color=\"royalblue\")\n",
    "        ax_log.plot(epochs[:epoch+1], lr_arr[:epoch+1], color=\"royalblue\")\n",
    "        \n",
    "        camera.snap()\n",
    "\n",
    "    anim = camera.animate()\n",
    "    plt.close()\n",
    "\n",
    "    gif_path = ROOT / \"steplr.gif\"  \n",
    "    anim.save(gif_path, writer=\"pillow\", fps=30)\n",
    "    return Image(url=gif_path)\n",
    "\n",
    "step_lr()"
   ]
  },
  {
   "cell_type": "markdown",
   "id": "4765dc43-2dff-48bd-b21c-ba373a17ee05",
   "metadata": {},
   "source": [
    "# ExponentialLR"
   ]
  },
  {
   "cell_type": "code",
   "execution_count": 52,
   "id": "4d486935-b02a-4e8d-b1ed-c6b2f5968114",
   "metadata": {},
   "outputs": [
    {
     "name": "stderr",
     "output_type": "stream",
     "text": [
      "/tmp/ipykernel_14/3603444625.py:68: UserWarning: Creating legend with loc=\"best\" can be slow with large amounts of data.\n",
      "  anim.save(gif_path, writer=\"pillow\", fps=30)\n"
     ]
    },
    {
     "data": {
      "text/html": [
       "<img src=\"assets/img/explr.gif\"/>"
      ],
      "text/plain": [
       "<IPython.core.display.Image object>"
      ]
     },
     "execution_count": 52,
     "metadata": {},
     "output_type": "execute_result"
    }
   ],
   "source": [
    "def exp_lr():\n",
    "\n",
    "    epochs = np.arange(0, 200)\n",
    "    gammas = [0.9, 0.95, 0.99]\n",
    "    \n",
    "    lr_dict = defaultdict(list)\n",
    "    for gamma in gammas:\n",
    "        \n",
    "        optimizer = get_dummy_optimizer(lr=1.)\n",
    "        scheduler = optim.lr_scheduler.ExponentialLR(optimizer, gamma=gamma)\n",
    "\n",
    "        for epoch in epochs:\n",
    "            lr = scheduler.get_last_lr()\n",
    "            lr_dict[gamma].append(lr)\n",
    "            \n",
    "            optimizer.step()\n",
    "            scheduler.step()\n",
    "\n",
    "    fig, (ax, ax_log) = plt.subplots(1, 2, figsize=(12,5))\n",
    "\n",
    "    fig.suptitle(\"ExponentialLR\")\n",
    "\n",
    "    ax.set_xlabel(\"epoch\")\n",
    "    ax.set_ylabel(\"lr\")\n",
    "\n",
    "    ax_log.set_xlabel(\"epoch\")\n",
    "    ax_log.set_ylabel(\"lr (log-scale)\")\n",
    "\n",
    "    ax_log.set_yscale(\"log\")\n",
    "    \n",
    "    colors = {\n",
    "        0.9: \"royalblue\",\n",
    "        0.95: \"orangered\",\n",
    "        0.99: \"forestgreen\",\n",
    "    }\n",
    "    \n",
    "    camera = Camera(fig)\n",
    "    for epoch in epochs:\n",
    "\n",
    "        lines = []\n",
    "        log_lines = []\n",
    "        \n",
    "        for gamma in lr_dict.keys():\n",
    "\n",
    "            lr_arr = np.array(lr_dict[gamma])\n",
    "            \n",
    "            ax.scatter(epoch, lr_arr[epoch], color=colors[gamma])\n",
    "            line, = ax.plot(epochs[:epoch+1], lr_arr[:epoch+1], \n",
    "                            color=colors[gamma], label=r\"$\\gamma=%s$\" % gamma)\n",
    "            \n",
    "            \n",
    "            ax_log.scatter(epoch, lr_arr[epoch], color=colors[gamma])\n",
    "            log_line, = ax_log.plot(epochs[:epoch+1], lr_arr[:epoch+1], \n",
    "                            color=colors[gamma], label=r\"$\\gamma=%s$\" % gamma)\n",
    "            \n",
    "            lines.append(line)\n",
    "            log_lines.append(log_line)\n",
    "\n",
    "        ax.legend(handles=lines)\n",
    "        ax_log.legend(handles=log_lines)\n",
    "        \n",
    "        camera.snap()\n",
    "\n",
    "    anim = camera.animate()\n",
    "    plt.close()\n",
    "\n",
    "    gif_path = ROOT / \"explr.gif\"  \n",
    "    anim.save(gif_path, writer=\"pillow\", fps=30)\n",
    "    return Image(url=gif_path)\n",
    "\n",
    "exp_lr()"
   ]
  },
  {
   "cell_type": "markdown",
   "id": "eca9107a-4e9d-4c0b-8030-f20f99921345",
   "metadata": {},
   "source": [
    "# PolynomialLR"
   ]
  },
  {
   "cell_type": "code",
   "execution_count": 55,
   "id": "e1c381f6-8188-4ee3-81dd-5903bdb64c33",
   "metadata": {},
   "outputs": [
    {
     "data": {
      "text/html": [
       "<img src=\"assets/img/polylr.gif\"/>"
      ],
      "text/plain": [
       "<IPython.core.display.Image object>"
      ]
     },
     "execution_count": 55,
     "metadata": {},
     "output_type": "execute_result"
    }
   ],
   "source": [
    "def poly_lr():\n",
    "\n",
    "    epochs = np.arange(0, 200)\n",
    "    powers = [1., 2., 3., 4., 5.]\n",
    "    \n",
    "    lr_dict = defaultdict(list)\n",
    "    for power in powers:\n",
    "        \n",
    "        optimizer = get_dummy_optimizer(lr=1.)\n",
    "        scheduler = optim.lr_scheduler.PolynomialLR(optimizer, power=power, \n",
    "                                                    total_iters=150)\n",
    "\n",
    "        for epoch in epochs:\n",
    "            lr = scheduler.get_last_lr()\n",
    "            lr_dict[power].append(lr)\n",
    "            \n",
    "            optimizer.step()\n",
    "            scheduler.step()\n",
    "\n",
    "    fig, ax = plt.subplots(1, 1, figsize=(5,5))\n",
    "\n",
    "    fig.suptitle(\"PolynomialLR\")\n",
    "\n",
    "    ax.set_xlabel(\"epoch\")\n",
    "    ax.set_ylabel(\"lr\")\n",
    "    \n",
    "    colors = {\n",
    "        1.: \"royalblue\",\n",
    "        2.: \"orangered\",\n",
    "        3.: \"forestgreen\",\n",
    "        4.: \"mediumblue\",\n",
    "        5.: \"crimson\",\n",
    "    }\n",
    "    \n",
    "    camera = Camera(fig)\n",
    "    for epoch in epochs:\n",
    "\n",
    "        lines = []\n",
    "        \n",
    "        for power in lr_dict.keys():\n",
    "\n",
    "            lr_arr = np.array(lr_dict[power])\n",
    "            \n",
    "            ax.scatter(epoch, lr_arr[epoch], color=colors[power])\n",
    "            line, = ax.plot(epochs[:epoch+1], lr_arr[:epoch+1], \n",
    "                            color=colors[power], label=f\"power={power}\")\n",
    "            \n",
    "            \n",
    "            lines.append(line)\n",
    "\n",
    "        ax.legend(handles=lines)\n",
    "        \n",
    "        camera.snap()\n",
    "\n",
    "    anim = camera.animate()\n",
    "    plt.close()\n",
    "\n",
    "    gif_path = ROOT / \"polylr.gif\"  \n",
    "    anim.save(gif_path, writer=\"pillow\", fps=30)\n",
    "    return Image(url=gif_path)\n",
    "\n",
    "poly_lr()"
   ]
  },
  {
   "cell_type": "markdown",
   "id": "b4aaa83b-26f5-4ed0-b535-87ea7e332798",
   "metadata": {},
   "source": [
    "# CyclicLR"
   ]
  },
  {
   "cell_type": "code",
   "execution_count": 8,
   "id": "b44cd24e-a37c-48a7-99f2-017d007a8c9f",
   "metadata": {},
   "outputs": [
    {
     "data": {
      "text/html": [
       "<img src=\"assets/img/cycliclr.gif\"/>"
      ],
      "text/plain": [
       "<IPython.core.display.Image object>"
      ]
     },
     "execution_count": 8,
     "metadata": {},
     "output_type": "execute_result"
    }
   ],
   "source": [
    "def cyclic_lr():\n",
    "\n",
    "    base_lr = 0.1\n",
    "    max_lr = 1.\n",
    "\n",
    "    modes = [\"triangular\", \"triangular2\", \"exp_range\"]\n",
    "    \n",
    "    epochs = np.arange(0, 200)\n",
    "\n",
    "    fig, axes = plt.subplots(1, 3, figsize=(18,5))\n",
    "\n",
    "    lr_dict = defaultdict(list)\n",
    "    \n",
    "    for mode in [\"triangular\", \"triangular2\"]:\n",
    "        \n",
    "        optimizer = get_dummy_optimizer(lr=1.)\n",
    "        scheduler = optim.lr_scheduler.CyclicLR(optimizer, mode=mode, \n",
    "                                                step_size_up=50, base_lr=base_lr, max_lr=max_lr)\n",
    "\n",
    "        for epoch in epochs:\n",
    "            \n",
    "            lr = scheduler.get_last_lr()\n",
    "            lr_dict[mode].append(lr)\n",
    "            \n",
    "            optimizer.step()\n",
    "            scheduler.step()\n",
    "\n",
    "\n",
    "    mode = \"exp_range\"\n",
    "    gammas = [0.99, 0.98, 0.97]\n",
    "    lr_exp_range_dict = defaultdict(list)\n",
    "\n",
    "    for gamma in gammas:\n",
    "        optimizer = get_dummy_optimizer(lr=1.)\n",
    "        scheduler = optim.lr_scheduler.CyclicLR(optimizer, mode=mode, gamma=gamma,\n",
    "                                                step_size_up=50, \n",
    "                                                base_lr=base_lr, max_lr=max_lr)\n",
    "\n",
    "        for epoch in epochs:\n",
    "            \n",
    "            lr = scheduler.get_last_lr()\n",
    "            lr_exp_range_dict[gamma].append(lr)\n",
    "            \n",
    "            optimizer.step()\n",
    "            scheduler.step()\n",
    "\n",
    "    fig.suptitle(\"CyclicLR\")\n",
    "\n",
    "    for idx, ax in enumerate(axes):\n",
    "        ax.set_xlabel(\"epoch\")\n",
    "        ax.set_ylabel(\"lr\")\n",
    "\n",
    "        mode = modes[idx]\n",
    "        ax.set_title(mode)\n",
    "    \n",
    "    exp_range_colors = {\n",
    "        0.99: \"royalblue\",\n",
    "        0.98: \"orangered\",\n",
    "        0.97: \"forestgreen\",\n",
    "    }\n",
    "    \n",
    "    camera = Camera(fig)\n",
    "\n",
    "    for epoch in epochs:\n",
    "        for idx, mode in enumerate([\"triangular\", \"triangular2\"]):\n",
    "            ax = axes[idx]\n",
    "\n",
    "            lr_arr = np.array(lr_dict[mode])\n",
    "            \n",
    "            ax.scatter(epoch, lr_arr[epoch], color=\"royalblue\")\n",
    "            ax.plot(epochs[:epoch+1], lr_arr[:epoch+1], \n",
    "                            color=\"royalblue\")\n",
    "        \n",
    "        ax = axes[2]\n",
    "        lines = []\n",
    "        for gamma in gammas:\n",
    "            color = exp_range_colors[gamma]\n",
    "\n",
    "            lr_arr = np.array(lr_exp_range_dict[gamma])\n",
    "\n",
    "            ax.scatter(epoch, lr_arr[epoch], color=color)\n",
    "            line,  = ax.plot(epochs[:epoch+1], lr_arr[:epoch+1], \n",
    "                            color=color, label=r\"$\\gamma=%s$\" % gamma)\n",
    "\n",
    "            lines.append(line)\n",
    "            \n",
    "        ax.legend(handles=lines)\n",
    "        camera.snap()\n",
    "\n",
    "    anim = camera.animate()\n",
    "    plt.close()\n",
    "\n",
    "    gif_path = ROOT / \"cycliclr.gif\"  \n",
    "    anim.save(gif_path, writer=\"pillow\", fps=30)\n",
    "    return Image(url=gif_path)\n",
    "\n",
    "cyclic_lr()"
   ]
  },
  {
   "cell_type": "markdown",
   "id": "0db02e8c-9710-4078-8aa3-24c0c453a53e",
   "metadata": {},
   "source": [
    "# OneCycleLR"
   ]
  },
  {
   "cell_type": "code",
   "execution_count": 7,
   "id": "c897366f-2fe9-4690-924e-5d68c495bb05",
   "metadata": {},
   "outputs": [
    {
     "data": {
      "text/html": [
       "<img src=\"assets/img/onecyclelr.gif\"/>"
      ],
      "text/plain": [
       "<IPython.core.display.Image object>"
      ]
     },
     "execution_count": 7,
     "metadata": {},
     "output_type": "execute_result"
    }
   ],
   "source": [
    "def onecycle_lr():\n",
    "\n",
    "    max_lr = 1.\n",
    "    \n",
    "    max_epochs = 200\n",
    "    epochs = np.arange(0, max_epochs)\n",
    "\n",
    "    fig, axes = plt.subplots(1, 1, figsize=(5,5))\n",
    "\n",
    "    lr_dict = defaultdict(list)\n",
    "\n",
    "    for threephase in [True, False]:\n",
    "\n",
    "        optimizer = get_dummy_optimizer(lr=1.)\n",
    "        scheduler = optim.lr_scheduler.OneCycleLR(optimizer, max_lr=max_lr, total_steps=max_epochs,\n",
    "                                                  three_phase=threephase,)\n",
    "\n",
    "        for epoch in epochs:\n",
    "            \n",
    "            lr = scheduler.get_last_lr()\n",
    "            lr_dict[threephase].append(lr)\n",
    "            \n",
    "            optimizer.step()\n",
    "            scheduler.step()\n",
    "\n",
    "    fig.suptitle(\"OneCycleLR\")\n",
    "\n",
    "    axes.set_xlabel(\"epoch\")\n",
    "    axes.set_ylabel(\"lr\")\n",
    "    \n",
    "    camera = Camera(fig)\n",
    "\n",
    "    colors = {\n",
    "        True: 'royalblue',\n",
    "        False: 'orangered',\n",
    "    }\n",
    "\n",
    "    for epoch in epochs:\n",
    "        \n",
    "        lines = []\n",
    "        for threephase in [True, False]:\n",
    "            \n",
    "            lr_arr = np.array(lr_dict[threephase])\n",
    "\n",
    "            color = colors[threephase]\n",
    "            axes.scatter(epoch, lr_arr[epoch], color=color)\n",
    "            line, = axes.plot(epochs[:epoch+1], lr_arr[:epoch+1], \n",
    "                            color=color, label=(\"three_phase\" if threephase else \"two_phase\"))\n",
    "            \n",
    "            lines.append(line)\n",
    "        \n",
    "        axes.legend(handles=lines)\n",
    "\n",
    "        camera.snap()\n",
    "\n",
    "    anim = camera.animate()\n",
    "    plt.close()\n",
    "\n",
    "    gif_path = ROOT / \"onecyclelr.gif\"  \n",
    "    anim.save(gif_path, writer=\"pillow\", fps=30)\n",
    "    return Image(url=gif_path)\n",
    "\n",
    "onecycle_lr()"
   ]
  },
  {
   "cell_type": "code",
   "execution_count": 5,
   "id": "3a8f0817",
   "metadata": {},
   "outputs": [
    {
     "data": {
      "text/html": [
       "<img src=\"assets/img/cosanneallr.gif\"/>"
      ],
      "text/plain": [
       "<IPython.core.display.Image object>"
      ]
     },
     "execution_count": 5,
     "metadata": {},
     "output_type": "execute_result"
    }
   ],
   "source": [
    "def cosanneal_lr():\n",
    "    \n",
    "    max_epochs = 200\n",
    "    epochs = np.arange(0, max_epochs)\n",
    "\n",
    "    fig, axes = plt.subplots(1, 1, figsize=(5,5))\n",
    "\n",
    "    lr_arr = []\n",
    "\n",
    "    optimizer = get_dummy_optimizer(lr=1.)\n",
    "    scheduler = optim.lr_scheduler.CosineAnnealingLR(optimizer, T_max=max_epochs)\n",
    "\n",
    "    for epoch in epochs:\n",
    "        \n",
    "        lr = scheduler.get_last_lr()\n",
    "        lr_arr.append(lr)\n",
    "        \n",
    "        optimizer.step()\n",
    "        scheduler.step()\n",
    "\n",
    "    lr_arr = np.array(lr_arr)\n",
    "    \n",
    "    fig.suptitle(\"CosineAnnealingLR\")\n",
    "\n",
    "    axes.set_xlabel(\"epoch\")\n",
    "    axes.set_ylabel(\"lr\")\n",
    "    \n",
    "    camera = Camera(fig)\n",
    "\n",
    "    color = \"royalblue\"\n",
    "    \n",
    "    for epoch in epochs:\n",
    "        \n",
    "        axes.scatter(epoch, lr_arr[epoch], color=color)\n",
    "        line, = axes.plot(epochs[:epoch+1], lr_arr[:epoch+1], \n",
    "                        color=color,)\n",
    "    \n",
    "\n",
    "        camera.snap()\n",
    "\n",
    "    anim = camera.animate()\n",
    "    plt.close()\n",
    "\n",
    "    gif_path = ROOT / \"cosanneallr.gif\"  \n",
    "    anim.save(gif_path, writer=\"pillow\", fps=30)\n",
    "    return Image(url=gif_path)\n",
    "\n",
    "cosanneal_lr()"
   ]
  },
  {
   "cell_type": "code",
   "execution_count": 7,
   "id": "8a2c8cde-9ee2-4714-83ed-7fe70ba4fcfc",
   "metadata": {},
   "outputs": [
    {
     "data": {
      "text/html": [
       "<img src=\"assets/img/coswarmlr.gif\"/>"
      ],
      "text/plain": [
       "<IPython.core.display.Image object>"
      ]
     },
     "execution_count": 7,
     "metadata": {},
     "output_type": "execute_result"
    }
   ],
   "source": [
    "def coswarm_lr():\n",
    "    \n",
    "    max_epochs = 200\n",
    "    epochs = np.arange(0, max_epochs)\n",
    "\n",
    "    T_0 = 50\n",
    "    T_mult = 3\n",
    "    \n",
    "    fig, axes = plt.subplots(1, 1, figsize=(5,5))\n",
    "\n",
    "    lr_arr = []\n",
    "\n",
    "    optimizer = get_dummy_optimizer(lr=1.)\n",
    "    scheduler = optim.lr_scheduler.CosineAnnealingWarmRestarts(optimizer, T_0=T_0, T_mult=T_mult)\n",
    "\n",
    "    for epoch in epochs:\n",
    "        \n",
    "        lr = scheduler.get_last_lr()\n",
    "        lr_arr.append(lr)\n",
    "        \n",
    "        optimizer.step()\n",
    "        scheduler.step()\n",
    "\n",
    "    lr_arr = np.array(lr_arr)\n",
    "    \n",
    "    fig.suptitle(\"CosineAnnealingWarmRestarts\")\n",
    "\n",
    "    axes.set_xlabel(\"epoch\")\n",
    "    axes.set_ylabel(\"lr\")\n",
    "    \n",
    "    camera = Camera(fig)\n",
    "\n",
    "    color = \"royalblue\"\n",
    "    \n",
    "    for epoch in epochs:\n",
    "        \n",
    "        axes.scatter(epoch, lr_arr[epoch], color=color)\n",
    "        line, = axes.plot(epochs[:epoch+1], lr_arr[:epoch+1], \n",
    "                        color=color,)\n",
    "    \n",
    "\n",
    "        camera.snap()\n",
    "\n",
    "    anim = camera.animate()\n",
    "    plt.close()\n",
    "\n",
    "    gif_path = ROOT / \"coswarmlr.gif\"  \n",
    "    anim.save(gif_path, writer=\"pillow\", fps=30)\n",
    "    return Image(url=gif_path)\n",
    "\n",
    "coswarm_lr()"
   ]
  }
 ],
 "metadata": {
  "kernelspec": {
   "display_name": "Python 3 (ipykernel)",
   "language": "python",
   "name": "python3"
  },
  "language_info": {
   "codemirror_mode": {
    "name": "ipython",
    "version": 3
   },
   "file_extension": ".py",
   "mimetype": "text/x-python",
   "name": "python",
   "nbconvert_exporter": "python",
   "pygments_lexer": "ipython3",
   "version": "3.12.3"
  }
 },
 "nbformat": 4,
 "nbformat_minor": 5
}
