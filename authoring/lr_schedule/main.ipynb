{
 "cells": [
  {
   "cell_type": "markdown",
   "id": "078fbaff-620e-4874-b85c-4ca35cba1f5c",
   "metadata": {},
   "source": [
    "---\n",
    "layout: post\n",
    "title: Catalogue of LR Schedulers\n",
    "{{cover-img}}\n",
    "---"
   ]
  },
  {
   "cell_type": "code",
   "execution_count": 34,
   "id": "b7ec32b0-b13f-4b59-8d7e-2b4b8bb5bc20",
   "metadata": {},
   "outputs": [],
   "source": [
    "from pathlib import Path\n",
    "import os\n",
    "from collections import defaultdict\n",
    "\n",
    "from IPython.display import HTML, Image\n",
    "import numpy as np\n",
    "import matplotlib.pyplot as plt\n",
    "from celluloid import Camera\n",
    "import torch.optim as optim\n",
    "import torch\n",
    "\n",
    "ROOT = Path(\"./assets/img/\")\n",
    "\n",
    "if not os.path.exists(ROOT):\n",
    "    os.makedirs(ROOT)"
   ]
  },
  {
   "cell_type": "code",
   "execution_count": 12,
   "id": "44d22cbb-3899-4d19-b123-83ed18b7051a",
   "metadata": {},
   "outputs": [],
   "source": [
    "def get_dummy_optimizer(lr):\n",
    "    return optim.SGD([torch.tensor(0)], lr=lr)"
   ]
  },
  {
   "cell_type": "markdown",
   "id": "7b5f35a1-d4a6-4161-86e5-f80539b5cb11",
   "metadata": {},
   "source": [
    "# StepLR"
   ]
  },
  {
   "cell_type": "code",
   "execution_count": 32,
   "id": "d8800d30-95cf-4f44-8c3e-658dad8a8f45",
   "metadata": {},
   "outputs": [
    {
     "data": {
      "text/html": [
       "<img src=\"assets/img/steplr.gif\"/>"
      ],
      "text/plain": [
       "<IPython.core.display.Image object>"
      ]
     },
     "execution_count": 32,
     "metadata": {},
     "output_type": "execute_result"
    }
   ],
   "source": [
    "def step_lr():\n",
    "\n",
    "    optimizer = get_dummy_optimizer(lr=1.)\n",
    "    scheduler = optim.lr_scheduler.StepLR(optimizer, step_size=50, gamma=0.1)\n",
    "\n",
    "    epochs = np.arange(0, 200)\n",
    "    \n",
    "    lr_arr = []\n",
    "    for epoch in epochs:\n",
    "        lr = scheduler.get_last_lr()\n",
    "        lr_arr.append(lr)\n",
    "        \n",
    "        optimizer.step()\n",
    "        scheduler.step()\n",
    "\n",
    "    lr_arr = np.array(lr_arr)\n",
    "    log_lr_arr = np.log10(lr_arr)\n",
    "\n",
    "    fig, (ax, ax_log) = plt.subplots(1, 2, figsize=(12,5))\n",
    "\n",
    "    fig.suptitle(\"StepLR\")\n",
    "\n",
    "    ax.set_xlabel(\"epoch\")\n",
    "    ax.set_ylabel(\"lr\")\n",
    "\n",
    "    ax_log.set_xlabel(\"epoch\")\n",
    "    ax_log.set_ylabel(\"log(lr)\")\n",
    "\n",
    "    camera = Camera(fig)\n",
    "    for epoch in epochs:\n",
    "        ax.scatter(epoch, lr_arr[epoch], color=\"royalblue\")\n",
    "        ax.plot(epochs[:epoch+1], lr_arr[:epoch+1], color=\"royalblue\")\n",
    "\n",
    "        ax_log.scatter(epoch, log_lr_arr[epoch], color=\"royalblue\")\n",
    "        ax_log.plot(epochs[:epoch+1], log_lr_arr[:epoch+1], color=\"royalblue\")\n",
    "        \n",
    "        camera.snap()\n",
    "\n",
    "    anim = camera.animate()\n",
    "    plt.close()\n",
    "\n",
    "    gif_path = ROOT / \"steplr.gif\"  \n",
    "    anim.save(gif_path, writer=\"pillow\", fps=30)\n",
    "    return Image(url=gif_path)\n",
    "\n",
    "step_lr()"
   ]
  },
  {
   "cell_type": "markdown",
   "id": "4765dc43-2dff-48bd-b21c-ba373a17ee05",
   "metadata": {},
   "source": [
    "# ExponentialLR"
   ]
  },
  {
   "cell_type": "code",
   "execution_count": 45,
   "id": "4d486935-b02a-4e8d-b1ed-c6b2f5968114",
   "metadata": {},
   "outputs": [
    {
     "data": {
      "text/html": [
       "<img src=\"assets/img/explr.gif\"/>"
      ],
      "text/plain": [
       "<IPython.core.display.Image object>"
      ]
     },
     "execution_count": 45,
     "metadata": {},
     "output_type": "execute_result"
    }
   ],
   "source": [
    "def exp_lr():\n",
    "\n",
    "    epochs = np.arange(0, 200)\n",
    "    gammas = [0.9, 0.95, 0.99]\n",
    "    \n",
    "    lr_dict = defaultdict(list)\n",
    "    for gamma in gammas:\n",
    "        \n",
    "        optimizer = get_dummy_optimizer(lr=1.)\n",
    "        scheduler = optim.lr_scheduler.ExponentialLR(optimizer, gamma=gamma)\n",
    "\n",
    "        for epoch in epochs:\n",
    "            lr = scheduler.get_last_lr()\n",
    "            lr_dict[gamma].append(lr)\n",
    "            \n",
    "            optimizer.step()\n",
    "            scheduler.step()\n",
    "\n",
    "    fig, ax = plt.subplots(1, 1)\n",
    "\n",
    "    fig.suptitle(\"ExponentialLR\")\n",
    "\n",
    "    ax.set_xlabel(\"epoch\")\n",
    "    ax.set_ylabel(\"lr\")\n",
    "\n",
    "    colors = {\n",
    "        0.9: \"royalblue\",\n",
    "        0.95: \"orangered\",\n",
    "        0.99: \"forestgreen\",\n",
    "    }\n",
    "    \n",
    "    camera = Camera(fig)\n",
    "    for epoch in epochs:\n",
    "\n",
    "        lines = []\n",
    "        \n",
    "        for gamma in lr_dict.keys():\n",
    "\n",
    "            lr_arr = np.array(lr_dict[gamma])\n",
    "            \n",
    "            ax.scatter(epoch, lr_arr[epoch], color=colors[gamma])\n",
    "            line, = ax.plot(epochs[:epoch+1], lr_arr[:epoch+1], \n",
    "                            color=colors[gamma], label=r\"$\\gamma=%s$\" % gamma)\n",
    "\n",
    "            lines.append(line)\n",
    "\n",
    "        ax.legend(handles=lines)\n",
    "        \n",
    "        camera.snap()\n",
    "\n",
    "    anim = camera.animate()\n",
    "    plt.close()\n",
    "\n",
    "    gif_path = ROOT / \"explr.gif\"  \n",
    "    anim.save(gif_path, writer=\"pillow\", fps=30)\n",
    "    return Image(url=gif_path)\n",
    "\n",
    "exp_lr()"
   ]
  },
  {
   "cell_type": "code",
   "execution_count": null,
   "id": "528a8a3d-45fb-4ec1-acd8-cc50d98094ae",
   "metadata": {},
   "outputs": [],
   "source": []
  }
 ],
 "metadata": {
  "kernelspec": {
   "display_name": "Python 3 (ipykernel)",
   "language": "python",
   "name": "python3"
  },
  "language_info": {
   "codemirror_mode": {
    "name": "ipython",
    "version": 3
   },
   "file_extension": ".py",
   "mimetype": "text/x-python",
   "name": "python",
   "nbconvert_exporter": "python",
   "pygments_lexer": "ipython3",
   "version": "3.12.3"
  }
 },
 "nbformat": 4,
 "nbformat_minor": 5
}
