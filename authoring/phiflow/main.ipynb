{
 "cells": [
  {
   "cell_type": "markdown",
   "id": "078fbaff-620e-4874-b85c-4ca35cba1f5c",
   "metadata": {},
   "source": [
    "---\n",
    "layout: post\n",
    "title: PhiFlow\n",
    "---"
   ]
  },
  {
   "cell_type": "code",
   "execution_count": 1,
   "id": "b7ec32b0-b13f-4b59-8d7e-2b4b8bb5bc20",
   "metadata": {},
   "outputs": [],
   "source": [
    "from pathlib import Path\n",
    "import os\n",
    "from collections import defaultdict\n",
    "\n",
    "from IPython.display import HTML, Image\n",
    "from phi.torch.flow import *\n",
    "from tqdm.notebook import trange\n",
    "import matplotlib.pyplot as plt\n",
    "\n",
    "ROOT = Path(\"./assets/img/\")\n",
    "\n",
    "if not os.path.exists(ROOT):\n",
    "    os.makedirs(ROOT)"
   ]
  },
  {
   "cell_type": "markdown",
   "id": "30671128-2056-4deb-8d06-982c93fcd789",
   "metadata": {},
   "source": [
    "PhiFlow is a differentiable fluid simulation in python. Let's see a basic [example](https://tum-pbs.github.io/PhiFlow/examples/grids/Smoke_Plume.html)."
   ]
  },
  {
   "cell_type": "code",
   "execution_count": 2,
   "id": "561417e9-de96-47e7-ba68-8dbce4a8fc70",
   "metadata": {},
   "outputs": [],
   "source": [
    "def clamp_field(f, lo=0.0, hi=1.0):\n",
    "    v = f.values                     # backend tensor\n",
    "    v = math.maximum(lo, math.minimum(hi, v))\n",
    "    return f.with_values(v)"
   ]
  },
  {
   "cell_type": "code",
   "execution_count": 9,
   "id": "831886a3-0c44-4831-a9d6-442f149c7879",
   "metadata": {},
   "outputs": [
    {
     "data": {
      "application/vnd.jupyter.widget-view+json": {
       "model_id": "3268998f75fd4be0b94503e73209ef0a",
       "version_major": 2,
       "version_minor": 0
      },
      "text/plain": [
       "  0%|          | 0/150 [00:00<?, ?it/s]"
      ]
     },
     "metadata": {},
     "output_type": "display_data"
    },
    {
     "name": "stderr",
     "output_type": "stream",
     "text": [
      "/app/.venv/lib/python3.12/site-packages/phiml/backend/_linalg.py:345: SparseEfficiencyWarning: spsolve requires A be CSC or CSR matrix format\n",
      "  x = spsolve(lin[batch], y[batch])  # returns nan when diverges\n"
     ]
    },
    {
     "data": {
      "text/html": [
       "<img src=\"assets/img/smoke_plume.gif\"/>"
      ],
      "text/plain": [
       "<IPython.core.display.Image object>"
      ]
     },
     "execution_count": 9,
     "metadata": {},
     "output_type": "execute_result"
    },
    {
     "data": {
      "text/plain": [
       "<Figure size 640x480 with 0 Axes>"
      ]
     },
     "metadata": {},
     "output_type": "display_data"
    }
   ],
   "source": [
    "def smoke_plume():\n",
    "\n",
    "    domain = Box(x=100, y=100)\n",
    "    \n",
    "    inflow = Sphere(x=50, y=9.5, radius=5)\n",
    "    inflow_rate = 0.2\n",
    "\n",
    "    def step(v, s, p, dt):\n",
    "        s = advect.mac_cormack(s, v, dt) + inflow_rate * resample(inflow, to=s, soft=True)\n",
    "        \n",
    "        buoyancy = resample(s * (0, 0.1), to=v)\n",
    "        v = advect.semi_lagrangian(v, v, dt) + buoyancy * dt\n",
    "        \n",
    "        v, p = fluid.make_incompressible(v, (), Solve('auto', 1e-3, x0=p))\n",
    "        return v, s, p\n",
    "\n",
    "    v0 = StaggeredGrid(0, 0, domain, x=64, y=64)\n",
    "    smoke0 = CenteredGrid(0, ZERO_GRADIENT, domain, x=200, y=200)\n",
    "\n",
    "    v_trj, s_trj, p_trj = iterate(step, batch(time=150), v0, smoke0, None, dt=.5, range=trange, substeps=3)\n",
    "\n",
    "    anim = plot(s_trj, animate='time', frame_time=80)\n",
    "    plt.close()\n",
    "\n",
    "    gif_path = ROOT / \"smoke_plume.gif\"  \n",
    "    anim.save(gif_path, writer=\"pillow\", fps=30)\n",
    "    return Image(url=gif_path)\n",
    "\n",
    "smoke_plume()"
   ]
  },
  {
   "cell_type": "code",
   "execution_count": null,
   "id": "977924a9-8180-4d23-9f68-14214bdc6734",
   "metadata": {},
   "outputs": [],
   "source": []
  }
 ],
 "metadata": {
  "kernelspec": {
   "display_name": "Python 3 (ipykernel)",
   "language": "python",
   "name": "python3"
  },
  "language_info": {
   "codemirror_mode": {
    "name": "ipython",
    "version": 3
   },
   "file_extension": ".py",
   "mimetype": "text/x-python",
   "name": "python",
   "nbconvert_exporter": "python",
   "pygments_lexer": "ipython3",
   "version": "3.12.3"
  }
 },
 "nbformat": 4,
 "nbformat_minor": 5
}
