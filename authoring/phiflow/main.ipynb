{
 "cells": [
  {
   "cell_type": "markdown",
   "id": "078fbaff-620e-4874-b85c-4ca35cba1f5c",
   "metadata": {},
   "source": [
    "---\n",
    "layout: post\n",
    "title: PhiFlow\n",
    "---"
   ]
  },
  {
   "cell_type": "code",
   "execution_count": 1,
   "id": "b7ec32b0-b13f-4b59-8d7e-2b4b8bb5bc20",
   "metadata": {},
   "outputs": [],
   "source": [
    "from pathlib import Path\n",
    "import os\n",
    "from collections import defaultdict\n",
    "\n",
    "from IPython.display import HTML, Image\n",
    "from phi.torch.flow import *\n",
    "from tqdm.notebook import trange\n",
    "import matplotlib.pyplot as plt\n",
    "import torch\n",
    "import numpy as np\n",
    "import warnings\n",
    "\n",
    "warnings.filterwarnings('ignore')\n",
    "\n",
    "ROOT = Path(\"./assets/img/\")\n",
    "\n",
    "if not os.path.exists(ROOT):\n",
    "    os.makedirs(ROOT)"
   ]
  },
  {
   "cell_type": "markdown",
   "id": "30671128-2056-4deb-8d06-982c93fcd789",
   "metadata": {},
   "source": [
    "PhiFlow is a differentiable fluid simulation in python. Let's see a basic example inspired by [this](https://tum-pbs.github.io/PhiFlow/examples/grids/Smoke_Plume.html)."
   ]
  },
  {
   "cell_type": "code",
   "execution_count": 2,
   "id": "561417e9-de96-47e7-ba68-8dbce4a8fc70",
   "metadata": {},
   "outputs": [],
   "source": [
    "def clamp_field(f, lo=0.0, hi=1.0):\n",
    "    v = f.values                     # backend tensor\n",
    "    v = math.maximum(lo, math.minimum(hi, v))\n",
    "    return f.with_values(v)"
   ]
  },
  {
   "cell_type": "code",
   "execution_count": 3,
   "id": "831886a3-0c44-4831-a9d6-442f149c7879",
   "metadata": {},
   "outputs": [
    {
     "data": {
      "application/vnd.jupyter.widget-view+json": {
       "model_id": "6373d9c73ba24f30af5cbbdcea6cd012",
       "version_major": 2,
       "version_minor": 0
      },
      "text/plain": [
       "  0%|          | 0/150 [00:00<?, ?it/s]"
      ]
     },
     "metadata": {},
     "output_type": "display_data"
    },
    {
     "data": {
      "text/html": [
       "<img src=\"assets/img/smoke_plume.gif\"/>"
      ],
      "text/plain": [
       "<IPython.core.display.Image object>"
      ]
     },
     "execution_count": 3,
     "metadata": {},
     "output_type": "execute_result"
    },
    {
     "data": {
      "text/plain": [
       "<Figure size 640x480 with 0 Axes>"
      ]
     },
     "metadata": {},
     "output_type": "display_data"
    }
   ],
   "source": [
    "def smoke_plume():\n",
    "\n",
    "    domain = Box(x=100, y=100)\n",
    "    \n",
    "    inflow = Sphere(x=50, y=9.5, radius=5)\n",
    "    inflow_rate = 0.2\n",
    "\n",
    "    def step(v, s, p, dt):\n",
    "        s = advect.mac_cormack(s, v, dt) + inflow_rate * resample(inflow, to=s, soft=True)\n",
    "        \n",
    "        buoyancy = resample(s * (0, 0.1), to=v)\n",
    "        v = advect.semi_lagrangian(v, v, dt) + buoyancy * dt\n",
    "        \n",
    "        v, p = fluid.make_incompressible(v, (), Solve('auto', 1e-3, x0=p))\n",
    "        return v, s, p\n",
    "\n",
    "    v0 = StaggeredGrid(0, 0, domain, x=64, y=64)\n",
    "    smoke0 = CenteredGrid(0, ZERO_GRADIENT, domain, x=200, y=200)\n",
    "\n",
    "    v_trj, s_trj, p_trj = iterate(step, batch(time=150), v0, smoke0, None, dt=.5, substeps=3, range=trange)\n",
    "\n",
    "    anim = plot(s_trj, animate='time', frame_time=80,)\n",
    "\n",
    "    gif_path = ROOT / \"smoke_plume.gif\"  \n",
    "    anim.save(gif_path, writer=\"pillow\", fps=30)\n",
    "    return Image(url=gif_path)\n",
    "\n",
    "smoke_plume()"
   ]
  },
  {
   "cell_type": "markdown",
   "id": "60714227-b809-4ffa-a4e6-04e9f0d1b967",
   "metadata": {},
   "source": [
    "Let's try what happens to a smoke ring."
   ]
  },
  {
   "cell_type": "code",
   "execution_count": 4,
   "id": "d1953ec8-cc8f-437b-9595-313fa1f2eb01",
   "metadata": {},
   "outputs": [
    {
     "data": {
      "application/vnd.jupyter.widget-view+json": {
       "model_id": "b0d9cc03db744674bb4b234895ccaa85",
       "version_major": 2,
       "version_minor": 0
      },
      "text/plain": [
       "  0%|          | 0/150 [00:00<?, ?it/s]"
      ]
     },
     "metadata": {},
     "output_type": "display_data"
    },
    {
     "data": {
      "text/html": [
       "<img src=\"assets/img/smoke_phi.gif\"/>"
      ],
      "text/plain": [
       "<IPython.core.display.Image object>"
      ]
     },
     "execution_count": 4,
     "metadata": {},
     "output_type": "execute_result"
    },
    {
     "data": {
      "text/plain": [
       "<Figure size 640x480 with 0 Axes>"
      ]
     },
     "metadata": {},
     "output_type": "display_data"
    }
   ],
   "source": [
    "def smoke_phi():\n",
    "    \n",
    "    domain = Box(x=100, y=100)\n",
    "    \n",
    "    def step(v, s, p, dt):\n",
    "        s = advect.mac_cormack(s, v, dt)\n",
    "        \n",
    "        buoyancy = resample(s * (0, 0.1), to=v)\n",
    "        v = advect.semi_lagrangian(v, v, dt) + buoyancy * dt\n",
    "        \n",
    "        v, p = fluid.make_incompressible(v, (), Solve('auto', 1e-3, x0=p))\n",
    "        return v, s, p\n",
    "\n",
    "    v0 = StaggeredGrid(0, 0, domain, x=64, y=64)\n",
    "    smoke0 = CenteredGrid(0, ZERO_GRADIENT, domain, x=256, y=256)\n",
    "\n",
    "    center = vec(x=50, y=20)\n",
    "    R_out, R_in = 15., 10.\n",
    "    \n",
    "    outer = Sphere(center, radius=R_out)\n",
    "    inner = Sphere(center, radius=R_in)\n",
    "    \n",
    "    outer_mask = resample(outer, to=smoke0, soft=True)\n",
    "    inner_mask = resample(inner, to=smoke0, soft=True)\n",
    "    \n",
    "    ring_mask = outer_mask * (1.0 - inner_mask) \n",
    "    \n",
    "    smoke0 = smoke0 + ring_mask\n",
    "\n",
    "    v_trj, s_trj, p_trj = iterate(step, batch(time=150), v0, smoke0, None, dt=.5, range=trange, substeps=3)\n",
    "\n",
    "    anim = plot(s_trj, animate='time', frame_time=80)\n",
    "    plt.close()\n",
    "\n",
    "    gif_path = ROOT / \"smoke_phi.gif\"  \n",
    "    anim.save(gif_path, writer=\"pillow\", fps=30)\n",
    "    return Image(url=gif_path)\n",
    "\n",
    "smoke_phi()"
   ]
  },
  {
   "cell_type": "markdown",
   "id": "97e4a57c-3498-4943-bd84-bceb47d56a93",
   "metadata": {},
   "source": [
    "What about puffing smoke from the side."
   ]
  },
  {
   "cell_type": "code",
   "execution_count": 5,
   "id": "77dd8f75-88c7-4bc5-97db-96f72898f1eb",
   "metadata": {},
   "outputs": [
    {
     "data": {
      "application/vnd.jupyter.widget-view+json": {
       "model_id": "f8fb6a48597f4bc1b7d7684b15b942ef",
       "version_major": 2,
       "version_minor": 0
      },
      "text/plain": [
       "  0%|          | 0/150 [00:00<?, ?it/s]"
      ]
     },
     "metadata": {},
     "output_type": "display_data"
    },
    {
     "data": {
      "text/html": [
       "<img src=\"assets/img/smoke_puff.gif\"/>"
      ],
      "text/plain": [
       "<IPython.core.display.Image object>"
      ]
     },
     "execution_count": 5,
     "metadata": {},
     "output_type": "execute_result"
    },
    {
     "data": {
      "text/plain": [
       "<Figure size 640x480 with 0 Axes>"
      ]
     },
     "metadata": {},
     "output_type": "display_data"
    }
   ],
   "source": [
    "def smoke_puff():\n",
    "    \n",
    "    domain = Box(x=100, y=100)\n",
    "\n",
    "    inflow = Box(x=(0, 10), y=(40, 60))\n",
    "    inflow_rate = 0.1\n",
    "    in_velocity = vec(x=1., y=0.)\n",
    "    \n",
    "    def step(v, s, p, dt):\n",
    "        s = advect.mac_cormack(s, v, dt)\n",
    "\n",
    "        s = s + inflow_rate*resample(inflow, to=s, soft=True)\n",
    "        \n",
    "        buoyancy = resample(s * (0, 0.1), to=v)\n",
    "\n",
    "        v = v + resample(inflow, to=v, soft=True)*in_velocity\n",
    "        v = advect.semi_lagrangian(v, v, dt) + buoyancy * dt\n",
    "        \n",
    "        v, p = fluid.make_incompressible(v, (), Solve('auto', 1e-2, x0=p))\n",
    "        return v, s, p\n",
    "\n",
    "    v0 = StaggeredGrid(0, 0, domain, x=64, y=64)\n",
    "    smoke0 = CenteredGrid(0, ZERO_GRADIENT, domain, x=256, y=256)\n",
    "\n",
    "    v_trj, s_trj, p_trj = iterate(step, batch(time=150), v0, smoke0, None, dt=.5, range=trange, substeps=3)\n",
    "\n",
    "    anim = plot(s_trj, animate='time', frame_time=80)\n",
    "    plt.close()\n",
    "\n",
    "    gif_path = ROOT / \"smoke_puff.gif\"  \n",
    "    anim.save(gif_path, writer=\"pillow\", fps=30)\n",
    "    return Image(url=gif_path)\n",
    "\n",
    "smoke_puff()"
   ]
  },
  {
   "cell_type": "markdown",
   "id": "4b692a03-52a4-487d-8ab1-9b52645e0e46",
   "metadata": {},
   "source": [
    "Let's add an obstacle in front of the smoke stream."
   ]
  },
  {
   "cell_type": "code",
   "execution_count": 13,
   "id": "af089096-5c02-46c0-9dcd-710f7b139089",
   "metadata": {},
   "outputs": [
    {
     "data": {
      "application/vnd.jupyter.widget-view+json": {
       "model_id": "d3f734983a9f44c5ac0b6f0ab2489fa3",
       "version_major": 2,
       "version_minor": 0
      },
      "text/plain": [
       "  0%|          | 0/150 [00:00<?, ?it/s]"
      ]
     },
     "metadata": {},
     "output_type": "display_data"
    },
    {
     "data": {
      "text/html": [
       "<img src=\"assets/img/smoke_obstacle.gif\"/>"
      ],
      "text/plain": [
       "<IPython.core.display.Image object>"
      ]
     },
     "execution_count": 13,
     "metadata": {},
     "output_type": "execute_result"
    },
    {
     "data": {
      "text/plain": [
       "<Figure size 640x480 with 0 Axes>"
      ]
     },
     "metadata": {},
     "output_type": "display_data"
    }
   ],
   "source": [
    "def smoke_obstacle():\n",
    "    \n",
    "    domain = Box(x=100, y=100)\n",
    "\n",
    "    inflow = Box(x=(0, 10), y=(40, 60))\n",
    "    inflow_rate = 0.1\n",
    "    in_velocity = vec(x=1., y=0.)\n",
    "\n",
    "    geometry = Box(x=(20, 30), y=(45, 55))\n",
    "    \n",
    "    def step(v, s, p, dt):\n",
    "        s = advect.mac_cormack(s, v, dt)\n",
    "\n",
    "        s = s + inflow_rate*resample(inflow, to=s, soft=True)\n",
    "        \n",
    "        buoyancy = resample(s * (0, 0.1), to=v)\n",
    "\n",
    "        v = v + resample(inflow, to=v, soft=True)*in_velocity\n",
    "        v = advect.semi_lagrangian(v, v, dt) + buoyancy * dt\n",
    "        \n",
    "        v, p = fluid.make_incompressible(v, geometry, Solve('auto', 1e-2, x0=p))\n",
    "        return v, s, p\n",
    "\n",
    "    v0 = StaggeredGrid(0, 0, domain, x=64, y=64)\n",
    "    smoke0 = CenteredGrid(0, ZERO_GRADIENT, domain, x=256, y=256)\n",
    "\n",
    "    v_trj, s_trj, p_trj = iterate(step, batch(time=150), v0, smoke0, None, dt=.5, range=trange, substeps=3)\n",
    "    \n",
    "    anim = plot(s_trj, animate='time', frame_time=80,)\n",
    "    plt.close()\n",
    "    \n",
    "    gif_path = ROOT / \"smoke_obstacle.gif\"  \n",
    "    anim.save(gif_path, writer=\"pillow\", fps=30)\n",
    "\n",
    "    return Image(url=gif_path)\n",
    "\n",
    "smoke_obstacle()"
   ]
  },
  {
   "cell_type": "markdown",
   "id": "e72c5520-aabc-476c-a874-a2d85acc0938",
   "metadata": {},
   "source": [
    "And two smoke stream colliding."
   ]
  },
  {
   "cell_type": "code",
   "execution_count": 51,
   "id": "1dbec683-be32-4286-8365-794469a5b7cc",
   "metadata": {},
   "outputs": [
    {
     "data": {
      "application/vnd.jupyter.widget-view+json": {
       "model_id": "652370cf7caa451db280afc339e32681",
       "version_major": 2,
       "version_minor": 0
      },
      "text/plain": [
       "  0%|          | 0/150 [00:00<?, ?it/s]"
      ]
     },
     "metadata": {},
     "output_type": "display_data"
    },
    {
     "data": {
      "text/html": [
       "<img src=\"assets/img/smoke_collide.gif\"/>"
      ],
      "text/plain": [
       "<IPython.core.display.Image object>"
      ]
     },
     "execution_count": 51,
     "metadata": {},
     "output_type": "execute_result"
    },
    {
     "data": {
      "text/plain": [
       "<Figure size 640x480 with 0 Axes>"
      ]
     },
     "metadata": {},
     "output_type": "display_data"
    }
   ],
   "source": [
    "def smoke_collide():\n",
    "    \n",
    "    domain = Box(x=100, y=100)\n",
    "\n",
    "    inflow_left = Box(x=(0, 10), y=(40, 60))\n",
    "    inflow_right = Box(x=(90, 100), y=(40, 60))\n",
    "    inflow_rate = 0.1\n",
    "    in_velocity_left = vec(x=1., y=0.)\n",
    "    in_velocity_right = vec(x=-1., y=0.)\n",
    "    \n",
    "    def step(v, s, p, dt):\n",
    "        s = advect.mac_cormack(s, v, dt)\n",
    "\n",
    "        s = s + inflow_rate*resample(inflow_left, to=s, soft=True) + \\\n",
    "            inflow_rate*resample(inflow_right, to=s, soft=True)\n",
    "        \n",
    "        buoyancy = resample(s * (0, 0.1), to=v)\n",
    "\n",
    "        v = v + resample(inflow_left, to=v, soft=True)*in_velocity_left + \\\n",
    "            resample(inflow_right, to=v, soft=True)*in_velocity_right\n",
    "        \n",
    "        v = advect.semi_lagrangian(v, v, dt) + buoyancy * dt\n",
    "        \n",
    "        v, p = fluid.make_incompressible(v, (), Solve('auto', 1e-2, x0=p))\n",
    "        return v, s, p\n",
    "\n",
    "    v0 = StaggeredGrid(0, 0, domain, x=64, y=64)\n",
    "    smoke0 = CenteredGrid(0, ZERO_GRADIENT, domain, x=256, y=256)\n",
    "\n",
    "    v_trj, s_trj, p_trj = iterate(step, batch(time=150), v0, smoke0, None, dt=.5, range=trange, substeps=3)\n",
    "    \n",
    "    anim = plot(s_trj, animate='time', frame_time=80,)\n",
    "    plt.close()\n",
    "    \n",
    "    gif_path = ROOT / \"smoke_collide.gif\"  \n",
    "    anim.save(gif_path, writer=\"pillow\", fps=30)\n",
    "\n",
    "    return Image(url=gif_path)\n",
    "\n",
    "smoke_collide()"
   ]
  },
  {
   "cell_type": "code",
   "execution_count": null,
   "id": "e9efa5ba-5512-4993-a7af-ee9cc16641c2",
   "metadata": {},
   "outputs": [],
   "source": []
  }
 ],
 "metadata": {
  "kernelspec": {
   "display_name": "Python 3 (ipykernel)",
   "language": "python",
   "name": "python3"
  },
  "language_info": {
   "codemirror_mode": {
    "name": "ipython",
    "version": 3
   },
   "file_extension": ".py",
   "mimetype": "text/x-python",
   "name": "python",
   "nbconvert_exporter": "python",
   "pygments_lexer": "ipython3",
   "version": "3.12.3"
  }
 },
 "nbformat": 4,
 "nbformat_minor": 5
}
