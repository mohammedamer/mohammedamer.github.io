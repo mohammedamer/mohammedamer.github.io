{
 "cells": [
  {
   "cell_type": "markdown",
   "id": "078fbaff-620e-4874-b85c-4ca35cba1f5c",
   "metadata": {},
   "source": [
    "---\n",
    "layout: post\n",
    "title: PhiFlow\n",
    "---"
   ]
  },
  {
   "cell_type": "code",
   "execution_count": 1,
   "id": "b7ec32b0-b13f-4b59-8d7e-2b4b8bb5bc20",
   "metadata": {},
   "outputs": [],
   "source": [
    "from pathlib import Path\n",
    "import os\n",
    "from collections import defaultdict\n",
    "\n",
    "from IPython.display import HTML, Image\n",
    "from phi.torch.flow import *\n",
    "from tqdm.notebook import trange\n",
    "import matplotlib.pyplot as plt\n",
    "import torch\n",
    "import numpy as np\n",
    "\n",
    "ROOT = Path(\"./assets/img/\")\n",
    "\n",
    "if not os.path.exists(ROOT):\n",
    "    os.makedirs(ROOT)"
   ]
  },
  {
   "cell_type": "markdown",
   "id": "30671128-2056-4deb-8d06-982c93fcd789",
   "metadata": {},
   "source": [
    "PhiFlow is a differentiable fluid simulation in python. Let's see a basic example inspired by [this](https://tum-pbs.github.io/PhiFlow/examples/grids/Smoke_Plume.html)."
   ]
  },
  {
   "cell_type": "code",
   "execution_count": 2,
   "id": "561417e9-de96-47e7-ba68-8dbce4a8fc70",
   "metadata": {},
   "outputs": [],
   "source": [
    "def clamp_field(f, lo=0.0, hi=1.0):\n",
    "    v = f.values                     # backend tensor\n",
    "    v = math.maximum(lo, math.minimum(hi, v))\n",
    "    return f.with_values(v)"
   ]
  },
  {
   "cell_type": "code",
   "execution_count": 3,
   "id": "831886a3-0c44-4831-a9d6-442f149c7879",
   "metadata": {},
   "outputs": [
    {
     "data": {
      "application/vnd.jupyter.widget-view+json": {
       "model_id": "d249740638094a789939f429b0604b5d",
       "version_major": 2,
       "version_minor": 0
      },
      "text/plain": [
       "  0%|          | 0/150 [00:00<?, ?it/s]"
      ]
     },
     "metadata": {},
     "output_type": "display_data"
    },
    {
     "name": "stderr",
     "output_type": "stream",
     "text": [
      "/app/.venv/lib/python3.12/site-packages/phiml/backend/torch/_torch_backend.py:873: UserWarning: Sparse CSR tensor support is in beta state. If you miss a functionality in the sparse tensor support, please submit a feature request to https://github.com/pytorch/pytorch/issues. (Triggered internally at /pytorch/aten/src/ATen/SparseCsrTensorImpl.cpp:53.)\n",
      "  return torch.sparse_csr_tensor(row_pointers, column_indices, values, shape, device=values.device)\n",
      "/app/.venv/lib/python3.12/site-packages/phiml/backend/_linalg.py:345: SparseEfficiencyWarning: spsolve requires A be CSC or CSR matrix format\n",
      "  x = spsolve(lin[batch], y[batch])  # returns nan when diverges\n"
     ]
    },
    {
     "data": {
      "text/html": [
       "<img src=\"assets/img/smoke_plume.gif\"/>"
      ],
      "text/plain": [
       "<IPython.core.display.Image object>"
      ]
     },
     "execution_count": 3,
     "metadata": {},
     "output_type": "execute_result"
    },
    {
     "data": {
      "text/plain": [
       "<Figure size 640x480 with 0 Axes>"
      ]
     },
     "metadata": {},
     "output_type": "display_data"
    }
   ],
   "source": [
    "def smoke_plume():\n",
    "\n",
    "    domain = Box(x=100, y=100)\n",
    "    \n",
    "    inflow = Sphere(x=50, y=9.5, radius=5)\n",
    "    inflow_rate = 0.2\n",
    "\n",
    "    def step(v, s, p, dt):\n",
    "        s = advect.mac_cormack(s, v, dt) + inflow_rate * resample(inflow, to=s, soft=True)\n",
    "        \n",
    "        buoyancy = resample(s * (0, 0.1), to=v)\n",
    "        v = advect.semi_lagrangian(v, v, dt) + buoyancy * dt\n",
    "        \n",
    "        v, p = fluid.make_incompressible(v, (), Solve('auto', 1e-3, x0=p))\n",
    "        return v, s, p\n",
    "\n",
    "    v0 = StaggeredGrid(0, 0, domain, x=64, y=64)\n",
    "    smoke0 = CenteredGrid(0, ZERO_GRADIENT, domain, x=200, y=200)\n",
    "\n",
    "    v_trj, s_trj, p_trj = iterate(step, batch(time=150), v0, smoke0, None, dt=.5, range=trange, substeps=3)\n",
    "\n",
    "    anim = plot(s_trj, animate='time', frame_time=80)\n",
    "    plt.close()\n",
    "\n",
    "    gif_path = ROOT / \"smoke_plume.gif\"  \n",
    "    anim.save(gif_path, writer=\"pillow\", fps=30)\n",
    "    return Image(url=gif_path)\n",
    "\n",
    "smoke_plume()"
   ]
  },
  {
   "cell_type": "markdown",
   "id": "60714227-b809-4ffa-a4e6-04e9f0d1b967",
   "metadata": {},
   "source": [
    "Let's try what happens to a smoke ring."
   ]
  },
  {
   "cell_type": "code",
   "execution_count": 18,
   "id": "d1953ec8-cc8f-437b-9595-313fa1f2eb01",
   "metadata": {},
   "outputs": [
    {
     "data": {
      "application/vnd.jupyter.widget-view+json": {
       "model_id": "69dbb3a60c6b4173bbc5ce543ac5f71f",
       "version_major": 2,
       "version_minor": 0
      },
      "text/plain": [
       "  0%|          | 0/150 [00:00<?, ?it/s]"
      ]
     },
     "metadata": {},
     "output_type": "display_data"
    },
    {
     "name": "stderr",
     "output_type": "stream",
     "text": [
      "/app/.venv/lib/python3.12/site-packages/phiml/backend/_linalg.py:345: SparseEfficiencyWarning: spsolve requires A be CSC or CSR matrix format\n",
      "  x = spsolve(lin[batch], y[batch])  # returns nan when diverges\n"
     ]
    },
    {
     "data": {
      "text/html": [
       "<img src=\"assets/img/smoke_phi.gif\"/>"
      ],
      "text/plain": [
       "<IPython.core.display.Image object>"
      ]
     },
     "execution_count": 18,
     "metadata": {},
     "output_type": "execute_result"
    },
    {
     "data": {
      "text/plain": [
       "<Figure size 640x480 with 0 Axes>"
      ]
     },
     "metadata": {},
     "output_type": "display_data"
    }
   ],
   "source": [
    "def smoke_phi():\n",
    "    \n",
    "    domain = Box(x=100, y=100)\n",
    "    \n",
    "    def step(v, s, p, dt):\n",
    "        s = advect.mac_cormack(s, v, dt)\n",
    "        \n",
    "        buoyancy = resample(s * (0, 0.1), to=v)\n",
    "        v = advect.semi_lagrangian(v, v, dt) + buoyancy * dt\n",
    "        \n",
    "        v, p = fluid.make_incompressible(v, (), Solve('auto', 1e-3, x0=p))\n",
    "        return v, s, p\n",
    "\n",
    "    v0 = StaggeredGrid(0, 0, domain, x=64, y=64)\n",
    "    smoke0 = CenteredGrid(0, ZERO_GRADIENT, domain, x=256, y=256)\n",
    "\n",
    "    center = vec(x=50, y=20)\n",
    "    R_out, R_in = 15., 10.\n",
    "    \n",
    "    outer = Sphere(center, radius=R_out)\n",
    "    inner = Sphere(center, radius=R_in)\n",
    "    \n",
    "    outer_mask = resample(outer, to=smoke0, soft=True)\n",
    "    inner_mask = resample(inner, to=smoke0, soft=True)\n",
    "    \n",
    "    ring_mask = outer_mask * (1.0 - inner_mask) \n",
    "    \n",
    "    smoke0 = smoke0 + ring_mask\n",
    "\n",
    "    v_trj, s_trj, p_trj = iterate(step, batch(time=150), v0, smoke0, None, dt=.5, range=trange, substeps=3)\n",
    "\n",
    "    anim = plot(s_trj, animate='time', frame_time=80)\n",
    "    plt.close()\n",
    "\n",
    "    gif_path = ROOT / \"smoke_phi.gif\"  \n",
    "    anim.save(gif_path, writer=\"pillow\", fps=30)\n",
    "    return Image(url=gif_path)\n",
    "\n",
    "smoke_phi()"
   ]
  },
  {
   "cell_type": "markdown",
   "id": "97e4a57c-3498-4943-bd84-bceb47d56a93",
   "metadata": {},
   "source": [
    "What about puffing smoke from the side."
   ]
  },
  {
   "cell_type": "code",
   "execution_count": 34,
   "id": "77dd8f75-88c7-4bc5-97db-96f72898f1eb",
   "metadata": {},
   "outputs": [
    {
     "data": {
      "application/vnd.jupyter.widget-view+json": {
       "model_id": "ade1f0520d6d40d7a8518148b5e72414",
       "version_major": 2,
       "version_minor": 0
      },
      "text/plain": [
       "  0%|          | 0/150 [00:00<?, ?it/s]"
      ]
     },
     "metadata": {},
     "output_type": "display_data"
    },
    {
     "name": "stderr",
     "output_type": "stream",
     "text": [
      "/app/.venv/lib/python3.12/site-packages/phiml/backend/_linalg.py:345: SparseEfficiencyWarning: spsolve requires A be CSC or CSR matrix format\n",
      "  x = spsolve(lin[batch], y[batch])  # returns nan when diverges\n"
     ]
    },
    {
     "data": {
      "text/html": [
       "<img src=\"assets/img/smoke_puff.gif\"/>"
      ],
      "text/plain": [
       "<IPython.core.display.Image object>"
      ]
     },
     "execution_count": 34,
     "metadata": {},
     "output_type": "execute_result"
    },
    {
     "data": {
      "text/plain": [
       "<Figure size 640x480 with 0 Axes>"
      ]
     },
     "metadata": {},
     "output_type": "display_data"
    }
   ],
   "source": [
    "def smoke_puff():\n",
    "    \n",
    "    domain = Box(x=100, y=100)\n",
    "\n",
    "    inflow = Box(x=(0, 10), y=(40, 60))\n",
    "    inflow_rate = 0.1\n",
    "    in_velocity = vec(x=1., y=0.)\n",
    "    \n",
    "    def step(v, s, p, dt):\n",
    "        s = advect.mac_cormack(s, v, dt)\n",
    "\n",
    "        s = s + inflow_rate*resample(inflow, to=s, soft=True)\n",
    "        \n",
    "        buoyancy = resample(s * (0, 0.1), to=v)\n",
    "\n",
    "        v = v + resample(inflow, to=v, soft=True)*in_velocity\n",
    "        v = advect.semi_lagrangian(v, v, dt) + buoyancy * dt\n",
    "        \n",
    "        v, p = fluid.make_incompressible(v, (), Solve('auto', 1e-2, x0=p))\n",
    "        return v, s, p\n",
    "\n",
    "    v0 = StaggeredGrid(0, 0, domain, x=64, y=64)\n",
    "    smoke0 = CenteredGrid(0, ZERO_GRADIENT, domain, x=256, y=256)\n",
    "\n",
    "    v_trj, s_trj, p_trj = iterate(step, batch(time=150), v0, smoke0, None, dt=.5, range=trange, substeps=3)\n",
    "\n",
    "    anim = plot(s_trj, animate='time', frame_time=80)\n",
    "    plt.close()\n",
    "\n",
    "    gif_path = ROOT / \"smoke_puff.gif\"  \n",
    "    anim.save(gif_path, writer=\"pillow\", fps=30)\n",
    "    return Image(url=gif_path)\n",
    "\n",
    "smoke_puff()"
   ]
  },
  {
   "cell_type": "markdown",
   "id": "4b692a03-52a4-487d-8ab1-9b52645e0e46",
   "metadata": {},
   "source": [
    "Let's add an obstacle in front of the smoke stream."
   ]
  },
  {
   "cell_type": "code",
   "execution_count": 52,
   "id": "af089096-5c02-46c0-9dcd-710f7b139089",
   "metadata": {},
   "outputs": [
    {
     "data": {
      "application/vnd.jupyter.widget-view+json": {
       "model_id": "545004ba7f71435b8f249536a0861813",
       "version_major": 2,
       "version_minor": 0
      },
      "text/plain": [
       "  0%|          | 0/150 [00:00<?, ?it/s]"
      ]
     },
     "metadata": {},
     "output_type": "display_data"
    },
    {
     "name": "stderr",
     "output_type": "stream",
     "text": [
      "/app/.venv/lib/python3.12/site-packages/phiml/backend/_linalg.py:345: SparseEfficiencyWarning: spsolve requires A be CSC or CSR matrix format\n",
      "  x = spsolve(lin[batch], y[batch])  # returns nan when diverges\n"
     ]
    },
    {
     "data": {
      "text/html": [
       "<img src=\"assets/img/smoke_obstacle.gif\"/>"
      ],
      "text/plain": [
       "<IPython.core.display.Image object>"
      ]
     },
     "execution_count": 52,
     "metadata": {},
     "output_type": "execute_result"
    },
    {
     "data": {
      "text/plain": [
       "<Figure size 640x480 with 0 Axes>"
      ]
     },
     "metadata": {},
     "output_type": "display_data"
    }
   ],
   "source": [
    "def smoke_obstacle():\n",
    "    \n",
    "    domain = Box(x=100, y=100)\n",
    "\n",
    "    inflow = Box(x=(0, 10), y=(40, 60))\n",
    "    inflow_rate = 0.1\n",
    "    in_velocity = vec(x=1., y=0.)\n",
    "\n",
    "    geometry = Box(x=(20, 30), y=(45, 55))\n",
    "    \n",
    "    def step(v, s, p, dt):\n",
    "        s = advect.mac_cormack(s, v, dt)\n",
    "\n",
    "        s = s + inflow_rate*resample(inflow, to=s, soft=True)\n",
    "        \n",
    "        buoyancy = resample(s * (0, 0.1), to=v)\n",
    "\n",
    "        v = v + resample(inflow, to=v, soft=True)*in_velocity\n",
    "        v = advect.semi_lagrangian(v, v, dt) + buoyancy * dt\n",
    "        \n",
    "        v, p = fluid.make_incompressible(v, geometry, Solve('auto', 1e-2, x0=p))\n",
    "        return v, s, p\n",
    "\n",
    "    v0 = StaggeredGrid(0, 0, domain, x=64, y=64)\n",
    "    smoke0 = CenteredGrid(0, ZERO_GRADIENT, domain, x=256, y=256)\n",
    "\n",
    "    v_trj, s_trj, p_trj = iterate(step, batch(time=150), v0, smoke0, None, dt=.5, range=trange, substeps=3)\n",
    "\n",
    "    domain_png_path = ROOT / \"obstacle_domain.png\"\n",
    "    fig = plot(domain + geometry)\n",
    "    fig.savefig(domain_png_path)\n",
    "    \n",
    "    anim = plot(s_trj, animate='time', frame_time=80)\n",
    "    plt.close()\n",
    "    \n",
    "    gif_path = ROOT / \"smoke_obstacle.gif\"  \n",
    "    anim.save(gif_path, writer=\"pillow\", fps=30)\n",
    "\n",
    "    return Image(url=gif_path), Image(url=domain_png_path)\n",
    "\n",
    "obstacle_anim, obstacle_domain = smoke_obstacle()\n",
    "obstacle_anim"
   ]
  },
  {
   "cell_type": "markdown",
   "id": "e72c5520-aabc-476c-a874-a2d85acc0938",
   "metadata": {},
   "source": [
    "How would a liquid shaken in a container behave."
   ]
  },
  {
   "cell_type": "code",
   "execution_count": 11,
   "id": "1dbec683-be32-4286-8365-794469a5b7cc",
   "metadata": {},
   "outputs": [
    {
     "data": {
      "application/vnd.jupyter.widget-view+json": {
       "model_id": "f4ce54e3945f4349afa8b05aae69fc8e",
       "version_major": 2,
       "version_minor": 0
      },
      "text/plain": [
       "  0%|          | 0/150 [00:00<?, ?it/s]"
      ]
     },
     "metadata": {},
     "output_type": "display_data"
    },
    {
     "name": "stderr",
     "output_type": "stream",
     "text": [
      "/app/.venv/lib/python3.12/site-packages/phiml/backend/_linalg.py:345: SparseEfficiencyWarning: spsolve requires A be CSC or CSR matrix format\n",
      "  x = spsolve(lin[batch], y[batch])  # returns nan when diverges\n"
     ]
    },
    {
     "data": {
      "text/html": [
       "<img src=\"assets/img/liquid_container.gif\"/>"
      ],
      "text/plain": [
       "<IPython.core.display.Image object>"
      ]
     },
     "execution_count": 11,
     "metadata": {},
     "output_type": "execute_result"
    },
    {
     "data": {
      "text/plain": [
       "<Figure size 640x480 with 0 Axes>"
      ]
     },
     "metadata": {},
     "output_type": "display_data"
    }
   ],
   "source": [
    "def liquid_container():\n",
    "    \n",
    "    domain = Box(x=100, y=100)\n",
    "    inflow = Box(x=(0, 100), y=(0, 30))\n",
    "\n",
    "    g = vec(x=0., y=-.1)\n",
    "    a0 = vec(x=0.05, y=0.)\n",
    "\n",
    "    acceleration_time = 3.\n",
    "\n",
    "    t = 0.\n",
    "        \n",
    "    def step(v, liq, p, dt):\n",
    "\n",
    "        nonlocal t\n",
    "        \n",
    "        a = a0 if t < acceleration_time else vec(x=0, y=0.)\n",
    "        v = v + (a + g) * dt * resample(liq, to=v) \n",
    "        \n",
    "        liq = advect.mac_cormack(liq, v, dt)\n",
    "\n",
    "        v = advect.semi_lagrangian(v, v, dt)\n",
    "        \n",
    "        v, p = fluid.make_incompressible(v, (), Solve('auto', 1e-2, x0=p))\n",
    "        return v, liq, p\n",
    "\n",
    "    v0 = StaggeredGrid(0, 0, domain, x=64, y=64)\n",
    "    \n",
    "    liquid = CenteredGrid(0, ZERO_GRADIENT, domain, x=256, y=256) \n",
    "    liquid = liquid + resample(inflow, to=liquid, soft=True)\n",
    "\n",
    "    v_trj, s_trj, p_trj = iterate(step, batch(time=150), v0, liquid, None, dt=.5, range=trange, substeps=3)\n",
    "    \n",
    "    anim = plot(s_trj, animate='time', frame_time=80)\n",
    "    plt.close()\n",
    "    \n",
    "    gif_path = ROOT / \"liquid_container.gif\"  \n",
    "    anim.save(gif_path, writer=\"pillow\", fps=30)\n",
    "\n",
    "    return Image(url=gif_path)\n",
    "\n",
    "liquid_container()"
   ]
  },
  {
   "cell_type": "code",
   "execution_count": null,
   "id": "91976d13-69a4-46fb-9c9f-d0da067faafe",
   "metadata": {},
   "outputs": [],
   "source": []
  }
 ],
 "metadata": {
  "kernelspec": {
   "display_name": "Python 3 (ipykernel)",
   "language": "python",
   "name": "python3"
  },
  "language_info": {
   "codemirror_mode": {
    "name": "ipython",
    "version": 3
   },
   "file_extension": ".py",
   "mimetype": "text/x-python",
   "name": "python",
   "nbconvert_exporter": "python",
   "pygments_lexer": "ipython3",
   "version": "3.12.3"
  }
 },
 "nbformat": 4,
 "nbformat_minor": 5
}
